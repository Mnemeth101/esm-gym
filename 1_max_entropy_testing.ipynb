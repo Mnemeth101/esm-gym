{
 "cells": [
  {
   "cell_type": "code",
   "execution_count": 18,
   "metadata": {},
   "outputs": [],
   "source": [
    "from abc import ABC, abstractmethod\n",
    "import torch\n",
    "import torch.nn.functional as F\n",
    "from tqdm import tqdm\n",
    "import attr\n",
    "import random\n",
    "import os\n",
    "import sys\n",
    "from datetime import datetime\n",
    "\n",
    "from esm.sdk.api import (\n",
    "    ESM3InferenceClient,\n",
    "    ESMProtein,\n",
    "    ESMProteinError,\n",
    "    ESMProteinTensor,\n",
    "    SamplingConfig,\n",
    "    SamplingTrackConfig,\n",
    "    LogitsConfig,\n",
    ")\n",
    "from esm.models.esm3 import ESM3\n",
    "from esm.tokenization import get_esm3_model_tokenizers\n",
    "\n",
    "# Import classes from denoising_strategies.py\n",
    "# Import the Tee and PrintFormatter classes from denoising_strategies.py\n",
    "from denoising_strategies import Tee, PrintFormatter\n",
    "\n",
    "# Import the BaseDenoising and MaxProbBasedDenoising classes\n",
    "from denoising_strategies import BaseDenoising, MaxProbBasedDenoising, EntropyBasedDenoising\n"
   ]
  },
  {
   "cell_type": "code",
   "execution_count": 23,
   "metadata": {},
   "outputs": [],
   "source": [
    "## On Forge with larger ESM3 models\n",
    "from esm.sdk import client\n",
    "token = os.getenv(\"ESM_FORGE_API_KEY\")\n",
    "model = client(model=\"esm3-open\", url=\"https://forge.evolutionaryscale.ai\", token=token)"
   ]
  },
  {
   "cell_type": "code",
   "execution_count": 24,
   "metadata": {},
   "outputs": [
    {
     "name": "stdout",
     "output_type": "stream",
     "text": [
      "Original Protein: ACDE\n",
      "\n"
     ]
    }
   ],
   "source": [
    "# --- Configuration ---\n",
    "TEST_SEQUENCE = \"ACDE\"\n",
    "NOISE_PERCENTAGE = 50.0 # Mask 50% initially (2 positions for length 4)\n",
    "NUM_DECODING_STEPS = 2 # Number of steps to unmask\n",
    "TEMPERATURE = 0.0\n",
    "TRACK = \"sequence\"\n",
    "# --- End Configuration ---\n",
    "\n",
    "# Create a dummy protein\n",
    "protein = ESMProtein(sequence=TEST_SEQUENCE)\n",
    "print(f\"Original Protein: {protein.sequence}\\n\")"
   ]
  },
  {
   "cell_type": "code",
   "execution_count": 25,
   "metadata": {},
   "outputs": [],
   "source": [
    "# Instantiate Denoiser with local model\n",
    "denoiser = EntropyBasedDenoising(model)\n",
    "denoiser.track = TRACK # Set track for prints"
   ]
  },
  {
   "cell_type": "code",
   "execution_count": null,
   "metadata": {},
   "outputs": [],
   "source": [
    "denoiser.denoise(protein, NOISE_PERCENTAGE, NUM_DECODING_STEPS, TEMPERATURE, TRACK)"
   ]
  },
  {
   "cell_type": "code",
   "execution_count": 17,
   "metadata": {},
   "outputs": [
    {
     "name": "stdout",
     "output_type": "stream",
     "text": [
      "ForwardTrackData(sequence=tensor([[-0.5568, -2.1173, -2.6212, -3.2794, -3.7599],\n",
      "        [-1.2986, -1.3376, -1.3611, -3.4197, -3.5407],\n",
      "        [-2.3516, -2.4317, -2.5255, -2.5967, -2.7017],\n",
      "        [-2.4503, -2.4600, -2.4893, -2.5323, -2.6172],\n",
      "        [-0.7971, -2.9670, -3.0451, -3.0646, -3.0969],\n",
      "        [-0.9229, -2.9093, -2.9268, -2.9991, -3.1368]]), structure=tensor([[-3.0251, -3.2751, -3.2751, -3.2751, -3.2751],\n",
      "        [-2.1125, -2.3625, -2.3625, -2.6125, -3.1125],\n",
      "        [-4.1307, -4.3807, -4.3807, -4.3807, -4.3807],\n",
      "        [-3.9972, -3.9972, -4.2472, -4.2472, -4.2472],\n",
      "        [-2.7718, -2.7718, -3.0218, -3.2718, -3.2718],\n",
      "        [-3.3501, -3.3501, -3.3501, -3.3501, -3.6001]]), secondary_structure=None, sasa=None, function=None)\n"
     ]
    }
   ],
   "source": [
    "# What does the full output of a forward_and_sample call look like?\n",
    "protein = ESMProtein(sequence=TEST_SEQUENCE)\n",
    "protein_tensor = denoiser.client.encode(protein)\n",
    "outputs = denoiser.client.forward_and_sample(\n",
    "    protein_tensor,\n",
    "    sampling_configuration=SamplingConfig(\n",
    "        sequence=SamplingTrackConfig(topk_logprobs=5),\n",
    "        structure=SamplingTrackConfig(topk_logprobs=5),\n",
    "    )\n",
    ")\n",
    "print(outputs.topk_logprob)"
   ]
  },
  {
   "cell_type": "code",
   "execution_count": 7,
   "metadata": {},
   "outputs": [
    {
     "name": "stdout",
     "output_type": "stream",
     "text": [
      "\n",
      "=== Testing MaxProbBasedDenoising ===\n",
      "Starting max-probability denoising process\n",
      "├── Adding noise to protein tensor\n",
      "│   ├── Masked positions (sequence): [4, 1]\n",
      "└── Resulting tensor: tensor([ 0, 32, 23, 13, 32,  2])\n",
      "├── Initial sequence: _CD_\n",
      "├── Starting denoising steps:\n"
     ]
    },
    {
     "name": "stderr",
     "output_type": "stream",
     "text": [
      "Denoising:   0%|          | 0/2 [00:00<?, ?it/s]"
     ]
    },
    {
     "name": "stdout",
     "output_type": "stream",
     "text": [
      "│   ├── Step 1/2\n"
     ]
    },
    {
     "name": "stderr",
     "output_type": "stream",
     "text": [
      "Denoising:   0%|          | 0/2 [00:00<?, ?it/s]"
     ]
    },
    {
     "name": "stdout",
     "output_type": "stream",
     "text": [
      "│   │   ├── Computing position probabilities\n",
      "Output: ForwardAndSampleOutput(logits=None, embeddings=None, residue_annotation_logits=None, hidden_states=None, protein_tensor=ESMProteinTensor(sequence=tensor([ 0, 20, 23, 13, 24,  2]), structure=tensor([4098, 3425, 1339, 1310, 2048, 4097]), secondary_structure=tensor([0, 0, 0, 0, 0, 0]), sasa=tensor([0, 0, 0, 0, 0, 0]), function=tensor([[0, 0, 0, 0, 0, 0, 0, 0],\n",
      "        [0, 0, 0, 0, 0, 0, 0, 0],\n",
      "        [0, 0, 0, 0, 0, 0, 0, 0],\n",
      "        [0, 0, 0, 0, 0, 0, 0, 0],\n",
      "        [0, 0, 0, 0, 0, 0, 0, 0],\n",
      "        [0, 0, 0, 0, 0, 0, 0, 0]]), residue_annotations=None, coordinates=None, potential_sequence_of_concern=False), entropy=ForwardTrackData(sequence=tensor([1.8691, 1.5893, 2.9100, 2.9065, 2.5071, 2.6606]), structure=tensor([4.2285, 3.7313, 5.3115, 5.3432, 4.9553, 5.1686]), secondary_structure=None, sasa=None, function=None), prob=ForwardTrackData(sequence=tensor([1.0000, 0.3015, 1.0000, 1.0000, 0.3553, 1.0000]), structure=tensor([1.0000, 0.0815, 0.0206, 0.0071, 0.0090, 1.0000]), secondary_structure=None, sasa=None, function=None), logprob=ForwardTrackData(sequence=tensor([ 0.0000, -1.1990,  0.0000,  0.0000, -1.0349,  0.0000]), structure=tensor([ 0.0000, -2.5072, -3.8847, -4.9497, -4.7104,  0.0000]), secondary_structure=None, sasa=None, function=None), top_prob=None, topk_logprob=ForwardTrackData(sequence=None, structure=None, secondary_structure=None, sasa=None, function=None), topk_tokens=ForwardTrackData(sequence=None, structure=None, secondary_structure=None, sasa=None, function=None), per_residue_embedding=None, mean_embedding=None)\n"
     ]
    },
    {
     "name": "stderr",
     "output_type": "stream",
     "text": [
      "\n"
     ]
    },
    {
     "ename": "AttributeError",
     "evalue": "'NoneType' object has no attribute 'sequence'",
     "output_type": "error",
     "traceback": [
      "\u001b[0;31m---------------------------------------------------------------------------\u001b[0m",
      "\u001b[0;31mAttributeError\u001b[0m                            Traceback (most recent call last)",
      "Cell \u001b[0;32mIn[7], line 5\u001b[0m\n\u001b[1;32m      2\u001b[0m max_prob_denoiser \u001b[38;5;241m=\u001b[39m MaxProbBasedDenoising(model)\n\u001b[1;32m      3\u001b[0m max_prob_denoiser\u001b[38;5;241m.\u001b[39mtrack \u001b[38;5;241m=\u001b[39m TRACK\n\u001b[0;32m----> 5\u001b[0m denoised_protein_maxprob \u001b[38;5;241m=\u001b[39m \u001b[43mmax_prob_denoiser\u001b[49m\u001b[38;5;241;43m.\u001b[39;49m\u001b[43mdenoise\u001b[49m\u001b[43m(\u001b[49m\n\u001b[1;32m      6\u001b[0m \u001b[43m    \u001b[49m\u001b[43mprotein\u001b[49m\u001b[38;5;241;43m=\u001b[39;49m\u001b[43mprotein\u001b[49m\u001b[43m,\u001b[49m\n\u001b[1;32m      7\u001b[0m \u001b[43m    \u001b[49m\u001b[43mnoise_percentage\u001b[49m\u001b[38;5;241;43m=\u001b[39;49m\u001b[43mNOISE_PERCENTAGE\u001b[49m\u001b[43m,\u001b[49m\n\u001b[1;32m      8\u001b[0m \u001b[43m    \u001b[49m\u001b[43mnum_decoding_steps\u001b[49m\u001b[38;5;241;43m=\u001b[39;49m\u001b[43mNUM_DECODING_STEPS\u001b[49m\u001b[43m,\u001b[49m\n\u001b[1;32m      9\u001b[0m \u001b[43m    \u001b[49m\u001b[43mtemperature\u001b[49m\u001b[38;5;241;43m=\u001b[39;49m\u001b[43mTEMPERATURE\u001b[49m\u001b[43m,\u001b[49m\n\u001b[1;32m     10\u001b[0m \u001b[43m    \u001b[49m\u001b[43mtrack\u001b[49m\u001b[38;5;241;43m=\u001b[39;49m\u001b[43mTRACK\u001b[49m\u001b[43m,\u001b[49m\n\u001b[1;32m     11\u001b[0m \u001b[43m    \u001b[49m\u001b[43mverbose\u001b[49m\u001b[38;5;241;43m=\u001b[39;49m\u001b[38;5;28;43;01mTrue\u001b[39;49;00m\n\u001b[1;32m     12\u001b[0m \u001b[43m)\u001b[49m\n",
      "File \u001b[0;32m~/Documents/1_Projects/esm-gym/denoising_strategies.py:420\u001b[0m, in \u001b[0;36mMaxProbBasedDenoising.denoise\u001b[0;34m(self, protein, noise_percentage, num_decoding_steps, temperature, track, verbose)\u001b[0m\n\u001b[1;32m    417\u001b[0m \u001b[38;5;28;01massert\u001b[39;00m \u001b[38;5;129;01mnot\u001b[39;00m \u001b[38;5;28misinstance\u001b[39m(output, ESMProteinError)\n\u001b[1;32m    419\u001b[0m \u001b[38;5;66;03m# Get next position using the same model output\u001b[39;00m\n\u001b[0;32m--> 420\u001b[0m next_pos \u001b[38;5;241m=\u001b[39m \u001b[38;5;28;43mself\u001b[39;49m\u001b[38;5;241;43m.\u001b[39;49m\u001b[43mget_next_position\u001b[49m\u001b[43m(\u001b[49m\u001b[43mprotein_tensor\u001b[49m\u001b[43m,\u001b[49m\u001b[43m \u001b[49m\u001b[43mtrack\u001b[49m\u001b[43m,\u001b[49m\u001b[43m \u001b[49m\u001b[43moutput\u001b[49m\u001b[43m)\u001b[49m\n\u001b[1;32m    422\u001b[0m \u001b[38;5;66;03m# Unmask using the same model output\u001b[39;00m\n\u001b[1;32m    423\u001b[0m protein_tensor \u001b[38;5;241m=\u001b[39m \u001b[38;5;28mself\u001b[39m\u001b[38;5;241m.\u001b[39munmask_position(\n\u001b[1;32m    424\u001b[0m     protein_tensor, next_pos, temperature, track, output\n\u001b[1;32m    425\u001b[0m )\n",
      "File \u001b[0;32m~/Documents/1_Projects/esm-gym/denoising_strategies.py:355\u001b[0m, in \u001b[0;36mMaxProbBasedDenoising.get_next_position\u001b[0;34m(self, protein_tensor, track, model_output)\u001b[0m\n\u001b[1;32m    353\u001b[0m     output \u001b[38;5;241m=\u001b[39m model_output\n\u001b[1;32m    354\u001b[0m \u001b[38;5;28mprint\u001b[39m(\u001b[38;5;124m\"\u001b[39m\u001b[38;5;124mOutput:\u001b[39m\u001b[38;5;124m\"\u001b[39m, output)\n\u001b[0;32m--> 355\u001b[0m max_probs \u001b[38;5;241m=\u001b[39m \u001b[38;5;28;43mgetattr\u001b[39;49m\u001b[43m(\u001b[49m\u001b[43moutput\u001b[49m\u001b[38;5;241;43m.\u001b[39;49m\u001b[43mtop_prob\u001b[49m\u001b[43m,\u001b[49m\u001b[43m \u001b[49m\u001b[43mtrack\u001b[49m\u001b[43m)\u001b[49m\n\u001b[1;32m    356\u001b[0m \u001b[38;5;28mself\u001b[39m\u001b[38;5;241m.\u001b[39mprinter\u001b[38;5;241m.\u001b[39mprint(\u001b[38;5;124mf\u001b[39m\u001b[38;5;124m\"\u001b[39m\u001b[38;5;124mTop probabilities at each position: \u001b[39m\u001b[38;5;132;01m{\u001b[39;00mmax_probs\u001b[38;5;132;01m}\u001b[39;00m\u001b[38;5;124m\"\u001b[39m)\n\u001b[1;32m    358\u001b[0m \u001b[38;5;66;03m# Mask probabilities of already unmasked positions\u001b[39;00m\n",
      "\u001b[0;31mAttributeError\u001b[0m: 'NoneType' object has no attribute 'sequence'"
     ]
    }
   ],
   "source": [
    "print(\"\\n=== Testing MaxProbBasedDenoising ===\")\n",
    "max_prob_denoiser = MaxProbBasedDenoising(model)\n",
    "max_prob_denoiser.track = TRACK\n",
    "\n",
    "denoised_protein_maxprob = max_prob_denoiser.denoise(\n",
    "    protein=protein,\n",
    "    noise_percentage=NOISE_PERCENTAGE,\n",
    "    num_decoding_steps=NUM_DECODING_STEPS,\n",
    "    temperature=TEMPERATURE,\n",
    "    track=TRACK,\n",
    "    verbose=True\n",
    ")"
   ]
  }
 ],
 "metadata": {
  "kernelspec": {
   "display_name": "esm-gym",
   "language": "python",
   "name": "python3"
  },
  "language_info": {
   "codemirror_mode": {
    "name": "ipython",
    "version": 3
   },
   "file_extension": ".py",
   "mimetype": "text/x-python",
   "name": "python",
   "nbconvert_exporter": "python",
   "pygments_lexer": "ipython3",
   "version": "3.10.17"
  }
 },
 "nbformat": 4,
 "nbformat_minor": 2
}
