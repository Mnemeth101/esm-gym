{
 "cells": [
  {
   "cell_type": "code",
   "execution_count": 6,
   "metadata": {},
   "outputs": [],
   "source": [
    "from abc import ABC, abstractmethod\n",
    "import torch\n",
    "import torch.nn.functional as F\n",
    "from tqdm import tqdm\n",
    "import attr\n",
    "import random\n",
    "import os\n",
    "import sys\n",
    "from datetime import datetime\n",
    "\n",
    "from esm.sdk.api import (\n",
    "    ESM3InferenceClient,\n",
    "    ESMProtein,\n",
    "    ESMProteinError,\n",
    "    ESMProteinTensor,\n",
    "    SamplingConfig,\n",
    "    SamplingTrackConfig,\n",
    "    LogitsConfig,\n",
    ")\n",
    "from esm.models.esm3 import ESM3\n",
    "from esm.tokenization import get_esm3_model_tokenizers\n",
    "\n",
    "# Import classes from denoising_strategies.py\n",
    "# Import the Tee and PrintFormatter classes from denoising_strategies.py\n",
    "from denoising_strategies import Tee, PrintFormatter\n",
    "\n",
    "# Import the BaseDenoising and MaxProbBasedDenoising classes\n",
    "from denoising_strategies import BaseDenoising, MaxProbBasedDenoising, EntropyBasedDenoising\n",
    "from benchmarking_utils import single_metric_UACCE"
   ]
  },
  {
   "cell_type": "code",
   "execution_count": 7,
   "metadata": {},
   "outputs": [],
   "source": [
    "## On Forge with larger ESM3 models\n",
    "from esm.sdk import client\n",
    "token = os.getenv(\"ESM_FORGE_API_KEY\")\n",
    "client = client(model=\"esm3-open\", url=\"https://forge.evolutionaryscale.ai\", token=token)"
   ]
  },
  {
   "cell_type": "code",
   "execution_count": 8,
   "metadata": {},
   "outputs": [
    {
     "name": "stdout",
     "output_type": "stream",
     "text": [
      "Original Protein: ACDE\n",
      "\n"
     ]
    }
   ],
   "source": [
    "# --- Configuration ---\n",
    "TEST_SEQUENCE = \"ACDE\"\n",
    "NOISE_PERCENTAGE = 50.0 # Mask 50% initially (2 positions for length 4)\n",
    "NUM_DECODING_STEPS = 2 # Number of steps to unmask\n",
    "TEMPERATURE = 0.0\n",
    "TRACK = \"sequence\"\n",
    "# --- End Configuration ---\n",
    "\n",
    "# Create a dummy protein\n",
    "protein = ESMProtein(sequence=TEST_SEQUENCE)\n",
    "protein_tensor = client.encode(protein)\n",
    "print(f\"Original Protein: {protein.sequence}\\n\")"
   ]
  },
  {
   "cell_type": "code",
   "execution_count": 9,
   "metadata": {},
   "outputs": [
    {
     "data": {
      "application/vnd.jupyter.widget-view+json": {
       "model_id": "f5d3fde05c794aa3bd007cbae7e520ed",
       "version_major": 2,
       "version_minor": 0
      },
      "text/plain": [
       "Fetching 22 files:   0%|          | 0/22 [00:00<?, ?it/s]"
      ]
     },
     "metadata": {},
     "output_type": "display_data"
    }
   ],
   "source": [
    "# Instantiate Denoiser with local model\n",
    "denoiser = EntropyBasedDenoising(client)\n",
    "denoiser.track = TRACK # Set track for prints"
   ]
  },
  {
   "cell_type": "code",
   "execution_count": 10,
   "metadata": {},
   "outputs": [
    {
     "name": "stdout",
     "output_type": "stream",
     "text": [
      "Starting entropy-based denoising process\n",
      "├── Adding noise to protein tensor\n",
      "│   ├── Masked positions (sequence): [2, 1]\n",
      "└── Resulting tensor: tensor([ 0, 32, 32, 13,  9,  2])\n",
      "├── Initial sequence: __DE\n",
      "├── Starting denoising steps:\n"
     ]
    },
    {
     "name": "stderr",
     "output_type": "stream",
     "text": [
      "Denoising:   0%|          | 0/2 [00:00<?, ?it/s]"
     ]
    },
    {
     "name": "stdout",
     "output_type": "stream",
     "text": [
      "│   ├── Step 1/2\n",
      "│   │   ├── Computing position entropies\n",
      "│   │   │   ├── Raw entropies: tensor([1.8328, 1.5358, 2.8640, 2.8807, 2.4746, 2.6426])\n",
      "│   │   └── Masked positions entropies: tensor([   inf, 1.5358, 2.8640,    inf,    inf,    inf])\n",
      "│   │   ├── Unmasking position 1\n",
      "<class 'int'> 4\n",
      "│   │   └── Predicted token: L (4)\n"
     ]
    },
    {
     "name": "stderr",
     "output_type": "stream",
     "text": [
      "Denoising:  50%|█████     | 1/2 [00:01<00:01,  1.44s/it]"
     ]
    },
    {
     "name": "stdout",
     "output_type": "stream",
     "text": [
      "│   └── Current sequence: L_DE\n",
      "│   ├── Step 2/2\n",
      "│   │   ├── Computing position entropies\n",
      "│   │   │   ├── Raw entropies: tensor([1.8412, 1.6270, 2.8515, 2.8643, 2.3652, 2.5886])\n",
      "│   │   └── Masked positions entropies: tensor([   inf,    inf, 2.8515,    inf,    inf,    inf])\n",
      "│   │   ├── Unmasking position 2\n",
      "<class 'int'> 10\n",
      "│   │   └── Predicted token: R (10)\n"
     ]
    },
    {
     "name": "stderr",
     "output_type": "stream",
     "text": [
      "Denoising: 100%|██████████| 2/2 [00:02<00:00,  1.41s/it]"
     ]
    },
    {
     "name": "stdout",
     "output_type": "stream",
     "text": [
      "│   └── Current sequence: LRDE\n"
     ]
    },
    {
     "name": "stderr",
     "output_type": "stream",
     "text": [
      "\n"
     ]
    },
    {
     "name": "stdout",
     "output_type": "stream",
     "text": [
      "│   ├── Final denoised sequence: LRDE\n",
      "└── Total model calls: 3\n"
     ]
    },
    {
     "data": {
      "text/plain": [
       "ESMProtein(sequence='LRDE', secondary_structure=None, sasa=None, function_annotations=None, coordinates=tensor([[[ -0.2313,   1.7491,   4.2768],\n",
       "         [  0.8281,   0.7578,   4.1250],\n",
       "         [  0.3268,  -0.4602,   3.3563],\n",
       "         [  1.3604,   0.3280,   5.4946],\n",
       "         [ -0.8824,  -0.6548,   3.2133],\n",
       "         [  2.2913,   1.3151,   6.2005],\n",
       "         [     nan,      nan,      nan],\n",
       "         [     nan,      nan,      nan],\n",
       "         [     nan,      nan,      nan],\n",
       "         [     nan,      nan,      nan],\n",
       "         [     nan,      nan,      nan],\n",
       "         [     nan,      nan,      nan],\n",
       "         [  2.4358,   0.9468,   7.6733],\n",
       "         [  3.6536,   1.3487,   5.5162],\n",
       "         [     nan,      nan,      nan],\n",
       "         [     nan,      nan,      nan],\n",
       "         [     nan,      nan,      nan],\n",
       "         [     nan,      nan,      nan],\n",
       "         [     nan,      nan,      nan],\n",
       "         [     nan,      nan,      nan],\n",
       "         [     nan,      nan,      nan],\n",
       "         [     nan,      nan,      nan],\n",
       "         [     nan,      nan,      nan],\n",
       "         [     nan,      nan,      nan],\n",
       "         [     nan,      nan,      nan],\n",
       "         [     nan,      nan,      nan],\n",
       "         [     nan,      nan,      nan],\n",
       "         [     nan,      nan,      nan],\n",
       "         [     nan,      nan,      nan],\n",
       "         [     nan,      nan,      nan],\n",
       "         [     nan,      nan,      nan],\n",
       "         [     nan,      nan,      nan],\n",
       "         [     nan,      nan,      nan],\n",
       "         [     nan,      nan,      nan],\n",
       "         [     nan,      nan,      nan],\n",
       "         [     nan,      nan,      nan],\n",
       "         [     nan,      nan,      nan]],\n",
       "\n",
       "        [[  0.5561,  -0.8020,   3.0929],\n",
       "         [  0.1719,  -1.6797,   1.9922],\n",
       "         [  0.8640,  -3.0339,   2.1044],\n",
       "         [  0.5037,  -1.0315,   0.6463],\n",
       "         [  1.8326,  -3.1818,   2.8525],\n",
       "         [ -0.7161,  -0.5505,  -0.1232],\n",
       "         [     nan,      nan,      nan],\n",
       "         [     nan,      nan,      nan],\n",
       "         [     nan,      nan,      nan],\n",
       "         [     nan,      nan,      nan],\n",
       "         [     nan,      nan,      nan],\n",
       "         [ -0.3316,   0.0710,  -1.4586],\n",
       "         [     nan,      nan,      nan],\n",
       "         [     nan,      nan,      nan],\n",
       "         [     nan,      nan,      nan],\n",
       "         [     nan,      nan,      nan],\n",
       "         [     nan,      nan,      nan],\n",
       "         [     nan,      nan,      nan],\n",
       "         [     nan,      nan,      nan],\n",
       "         [     nan,      nan,      nan],\n",
       "         [     nan,      nan,      nan],\n",
       "         [     nan,      nan,      nan],\n",
       "         [     nan,      nan,      nan],\n",
       "         [ -1.3213,   1.0480,  -1.9033],\n",
       "         [     nan,      nan,      nan],\n",
       "         [     nan,      nan,      nan],\n",
       "         [     nan,      nan,      nan],\n",
       "         [     nan,      nan,      nan],\n",
       "         [     nan,      nan,      nan],\n",
       "         [ -0.3022,   1.4637,  -3.9345],\n",
       "         [ -2.2373,   2.5566,  -3.3729],\n",
       "         [     nan,      nan,      nan],\n",
       "         [ -1.2847,   1.6872,  -3.0692],\n",
       "         [     nan,      nan,      nan],\n",
       "         [     nan,      nan,      nan],\n",
       "         [     nan,      nan,      nan],\n",
       "         [     nan,      nan,      nan]],\n",
       "\n",
       "        [[  0.5311,  -3.5996,   2.0415],\n",
       "         [  0.4805,  -5.0000,   1.6328],\n",
       "         [  1.7865,  -5.4249,   0.9654],\n",
       "         [ -0.6968,  -5.2405,   0.6855],\n",
       "         [  2.5714,  -4.5795,   0.5308],\n",
       "         [ -1.6751,  -6.2783,   1.2070],\n",
       "         [     nan,      nan,      nan],\n",
       "         [     nan,      nan,      nan],\n",
       "         [     nan,      nan,      nan],\n",
       "         [     nan,      nan,      nan],\n",
       "         [     nan,      nan,      nan],\n",
       "         [     nan,      nan,      nan],\n",
       "         [     nan,      nan,      nan],\n",
       "         [     nan,      nan,      nan],\n",
       "         [     nan,      nan,      nan],\n",
       "         [     nan,      nan,      nan],\n",
       "         [ -2.7790,  -6.4166,   0.6372],\n",
       "         [ -1.3403,  -6.9620,   2.1985],\n",
       "         [     nan,      nan,      nan],\n",
       "         [     nan,      nan,      nan],\n",
       "         [     nan,      nan,      nan],\n",
       "         [     nan,      nan,      nan],\n",
       "         [     nan,      nan,      nan],\n",
       "         [     nan,      nan,      nan],\n",
       "         [     nan,      nan,      nan],\n",
       "         [     nan,      nan,      nan],\n",
       "         [     nan,      nan,      nan],\n",
       "         [     nan,      nan,      nan],\n",
       "         [     nan,      nan,      nan],\n",
       "         [     nan,      nan,      nan],\n",
       "         [     nan,      nan,      nan],\n",
       "         [     nan,      nan,      nan],\n",
       "         [     nan,      nan,      nan],\n",
       "         [     nan,      nan,      nan],\n",
       "         [     nan,      nan,      nan],\n",
       "         [     nan,      nan,      nan],\n",
       "         [     nan,      nan,      nan]],\n",
       "\n",
       "        [[  1.9589,  -5.9930,   0.5684],\n",
       "         [  2.9844,  -7.0312,   0.5273],\n",
       "         [  3.1794,  -7.5586,  -0.8913],\n",
       "         [  2.6235,  -8.1813,   1.4711],\n",
       "         [  3.1146,  -6.7955,  -1.8573],\n",
       "         [  3.4788,  -8.2366,   2.7285],\n",
       "         [     nan,      nan,      nan],\n",
       "         [     nan,      nan,      nan],\n",
       "         [     nan,      nan,      nan],\n",
       "         [     nan,      nan,      nan],\n",
       "         [     nan,      nan,      nan],\n",
       "         [  3.0520,  -9.3281,   3.6970],\n",
       "         [     nan,      nan,      nan],\n",
       "         [     nan,      nan,      nan],\n",
       "         [     nan,      nan,      nan],\n",
       "         [     nan,      nan,      nan],\n",
       "         [     nan,      nan,      nan],\n",
       "         [     nan,      nan,      nan],\n",
       "         [     nan,      nan,      nan],\n",
       "         [     nan,      nan,      nan],\n",
       "         [     nan,      nan,      nan],\n",
       "         [     nan,      nan,      nan],\n",
       "         [     nan,      nan,      nan],\n",
       "         [     nan,      nan,      nan],\n",
       "         [     nan,      nan,      nan],\n",
       "         [     nan,      nan,      nan],\n",
       "         [  3.4718,  -9.2916,   4.8760],\n",
       "         [  2.2925, -10.2276,   3.2731],\n",
       "         [     nan,      nan,      nan],\n",
       "         [     nan,      nan,      nan],\n",
       "         [     nan,      nan,      nan],\n",
       "         [     nan,      nan,      nan],\n",
       "         [     nan,      nan,      nan],\n",
       "         [     nan,      nan,      nan],\n",
       "         [     nan,      nan,      nan],\n",
       "         [     nan,      nan,      nan],\n",
       "         [     nan,      nan,      nan]]]), plddt=tensor([0.6986, 0.7365, 0.7167, 0.6839]), ptm=tensor(0.0205), potential_sequence_of_concern=False)"
      ]
     },
     "execution_count": 10,
     "metadata": {},
     "output_type": "execute_result"
    }
   ],
   "source": [
    "denoiser.denoise(protein, NOISE_PERCENTAGE, NUM_DECODING_STEPS, TEMPERATURE, TRACK)"
   ]
  },
  {
   "cell_type": "code",
   "execution_count": 11,
   "metadata": {},
   "outputs": [
    {
     "name": "stdout",
     "output_type": "stream",
     "text": [
      "Final Protein: LRDE\n",
      "\n",
      "Cost: 3\n",
      "\n"
     ]
    }
   ],
   "source": [
    "protein, cost = denoiser.return_generation()\n",
    "print(f\"Final Protein: {protein.sequence}\\n\")\n",
    "print(f\"Cost: {cost}\\n\")"
   ]
  },
  {
   "cell_type": "code",
   "execution_count": 12,
   "metadata": {},
   "outputs": [
    {
     "name": "stdout",
     "output_type": "stream",
     "text": [
      "pLDDT: tensor([0.6986, 0.7365, 0.7167, 0.6839])\n",
      "\n"
     ]
    }
   ],
   "source": [
    "print(f\"pLDDT: {protein.plddt}\\n\")"
   ]
  },
  {
   "cell_type": "code",
   "execution_count": 13,
   "metadata": {},
   "outputs": [
    {
     "name": "stdout",
     "output_type": "stream",
     "text": [
      "pTM: 0.020479248836636543\n",
      "\n"
     ]
    }
   ],
   "source": [
    "print(f\"pTM: {protein.ptm}\\n\")"
   ]
  }
 ],
 "metadata": {
  "kernelspec": {
   "display_name": "esm-gym",
   "language": "python",
   "name": "python3"
  },
  "language_info": {
   "codemirror_mode": {
    "name": "ipython",
    "version": 3
   },
   "file_extension": ".py",
   "mimetype": "text/x-python",
   "name": "python",
   "nbconvert_exporter": "python",
   "pygments_lexer": "ipython3",
   "version": "3.10.17"
  }
 },
 "nbformat": 4,
 "nbformat_minor": 2
}
